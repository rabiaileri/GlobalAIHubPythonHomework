{
 "cells": [
  {
   "cell_type": "code",
   "execution_count": 3,
   "metadata": {},
   "outputs": [
    {
     "name": "stdout",
     "output_type": "stream",
     "text": [
      "Enter your name Rabia\n",
      "Welcome Rabia\n",
      "Guess a 5 letter word!\n",
      "Enter a guess_letter:o\n",
      "-\n",
      "-\n",
      "o\n",
      "-\n",
      "-\n"
     ]
    }
   ],
   "source": [
    "name = input(\"Enter your name \")\n",
    "print(\"Welcome\", name)\n",
    "secret= (\"phone\")\n",
    "no=len(secret)\n",
    "print(\"Guess a\" ,no, \"letter word!\")\n",
    "\n",
    "guess_letter=input (\"Enter a guess_letter:\") \n",
    "for char in secret: \n",
    "        if char in guess_letter: \n",
    "            print(char)\n",
    "             \n",
    "        else: \n",
    "            print(\"-\")\n",
    "    "
   ]
  },
  {
   "cell_type": "code",
   "execution_count": null,
   "metadata": {},
   "outputs": [],
   "source": []
  },
  {
   "cell_type": "code",
   "execution_count": null,
   "metadata": {},
   "outputs": [],
   "source": []
  }
 ],
 "metadata": {
  "kernelspec": {
   "display_name": "Python 3",
   "language": "python",
   "name": "python3"
  },
  "language_info": {
   "codemirror_mode": {
    "name": "ipython",
    "version": 3
   },
   "file_extension": ".py",
   "mimetype": "text/x-python",
   "name": "python",
   "nbconvert_exporter": "python",
   "pygments_lexer": "ipython3",
   "version": "3.8.5"
  }
 },
 "nbformat": 4,
 "nbformat_minor": 4
}
