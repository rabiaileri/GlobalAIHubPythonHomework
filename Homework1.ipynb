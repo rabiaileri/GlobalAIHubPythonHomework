{
 "cells": [
  {
   "cell_type": "code",
   "execution_count": 5,
   "metadata": {},
   "outputs": [
    {
     "name": "stdout",
     "output_type": "stream",
     "text": [
      "Please enter a i:a\n",
      "Please enter a j:b\n",
      "Please enter a n:5\n",
      "Please enter a x:0.3\n",
      "Please enter a y:4\n",
      "value1: a\n",
      "value2: b\n",
      "value3: 5\n",
      "value4: 0.3\n",
      "value5: 4\n",
      "type1 <class 'str'>\n",
      "type2 <class 'str'>\n",
      "type3 <class 'int'>\n",
      "type4 <class 'float'>\n",
      "type5 <class 'int'>\n"
     ]
    }
   ],
   "source": [
    "i = input(\"Please enter a i:\")\n",
    "j = input(\"Please enter a j:\")\n",
    "n = int(input(\"Please enter a n:\"))\n",
    "x = float(input(\"Please enter a x:\"))\n",
    "y = int(input(\"Please enter a y:\"))\n",
    "print(f'value1: {i}')\n",
    "print(f'value2: {j}')\n",
    "print(f'value3: {n}')\n",
    "print(f'value4: {x}')\n",
    "print(f'value5: {y}')\n",
    "print(\"type1 {}\".format(type(i)))\n",
    "print(\"type2 {}\".format(type(j)))\n",
    "print(\"type3 {}\".format(type(n)))\n",
    "print(\"type4 {}\".format(type(x)))\n",
    "print(\"type5 {}\".format(type(y)))\n"
   ]
  },
  {
   "cell_type": "code",
   "execution_count": null,
   "metadata": {},
   "outputs": [],
   "source": []
  }
 ],
 "metadata": {
  "kernelspec": {
   "display_name": "Python 3",
   "language": "python",
   "name": "python3"
  },
  "language_info": {
   "codemirror_mode": {
    "name": "ipython",
    "version": 3
   },
   "file_extension": ".py",
   "mimetype": "text/x-python",
   "name": "python",
   "nbconvert_exporter": "python",
   "pygments_lexer": "ipython3",
   "version": "3.8.5"
  }
 },
 "nbformat": 4,
 "nbformat_minor": 4
}
