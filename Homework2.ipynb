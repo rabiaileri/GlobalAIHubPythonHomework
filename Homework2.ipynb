{
 "cells": [
  {
   "cell_type": "code",
   "execution_count": 7,
   "metadata": {},
   "outputs": [
    {
     "name": "stdout",
     "output_type": "stream",
     "text": [
      "Please enter a first name:r\n",
      "Please enter a last name:i\n",
      "Please enter age:23\n",
      "Please enter date of birth:1997\n",
      "r\n",
      "i\n",
      "23\n",
      "1997\n",
      "You can go out the street\n"
     ]
    }
   ],
   "source": [
    "a=input(\"Please enter a first name:\")\n",
    "b=input(\"Please enter a last name:\")\n",
    "c=int(input(\"Please enter age:\"))\n",
    "d=int(input(\"Please enter date of birth:\"))\n",
    "list1=[a, b, c, d]\n",
    "for i in list1:\n",
    " print(i)\n",
    "\n",
    "if c<=18 :\n",
    "    print(\"You can't go out because it's too dangerous\")\n",
    "elif c>=18:\n",
    "    print(\"You can go out the street\")"
   ]
  },
  {
   "cell_type": "code",
   "execution_count": null,
   "metadata": {},
   "outputs": [],
   "source": []
  },
  {
   "cell_type": "code",
   "execution_count": null,
   "metadata": {},
   "outputs": [],
   "source": []
  }
 ],
 "metadata": {
  "kernelspec": {
   "display_name": "Python 3",
   "language": "python",
   "name": "python3"
  },
  "language_info": {
   "codemirror_mode": {
    "name": "ipython",
    "version": 3
   },
   "file_extension": ".py",
   "mimetype": "text/x-python",
   "name": "python",
   "nbconvert_exporter": "python",
   "pygments_lexer": "ipython3",
   "version": "3.8.5"
  }
 },
 "nbformat": 4,
 "nbformat_minor": 4
}
